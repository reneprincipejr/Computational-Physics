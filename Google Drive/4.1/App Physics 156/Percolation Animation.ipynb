{
 "cells": [
  {
   "cell_type": "code",
   "execution_count": 28,
   "metadata": {},
   "outputs": [
    {
     "name": "stderr",
     "output_type": "stream",
     "text": [
      "C:\\Users\\Rene\\Anaconda\\lib\\site-packages\\matplotlib\\animation.py:1218: UserWarning: MovieWriter ffmpeg unavailable\n",
      "  warnings.warn(\"MovieWriter %s unavailable\" % writer)\n"
     ]
    },
    {
     "data": {
      "image/png": "[encoded data removed]",
      "text/plain": [
       "<matplotlib.figure.Figure at 0x21c53bd8be0>"
      ]
     },
     "metadata": {},
     "output_type": "display_data"
    }
   ],
   "source": [
    "import matplotlib.animation as anim\n",
    "import matplotlib.pyplot as plt\n",
    "import numpy as np\n",
    "\n",
    "\n",
    "def Lattice(N):\n",
    "    lattice = np.zeros((N,N))\n",
    "    'occupy the center'\n",
    "    lattice[N//2,N//2]=1\n",
    "    lattice[:,0] = lattice[0,:] = lattice[:,-1] = lattice[-1,:] = 2\n",
    "    return lattice\n",
    "    \n",
    "def nextstep(x,y):\n",
    "    adjacents = np.array([np.array([ 0,  1]), np.array([ 1,  0]), np.array([-1,  0]), np.array([ 0, -1])])\n",
    "    choice = np.random.randint(0,4)\n",
    "    x += adjacents[choice][0]\n",
    "    y += adjacents[choice][1]\n",
    "    return x,y\n",
    "\n",
    "fig = plt.figure()\n",
    "im = []\n",
    "count = 1\n",
    "lattice = Lattice(20)\n",
    "x = y = 0\n",
    "p = 0.4\n",
    "\n",
    "N = 20\n",
    "np.random.seed()\n",
    "for i in range(1000):\n",
    "    r = np.random.random()\n",
    "    x,y = nextstep(x,y)\n",
    "    if np.abs(N//2+x) < N and np.abs(N//2+y) < N:\n",
    "        if lattice[N//2 + x][N//2 + y] == 0:\n",
    "            if r < p: \n",
    "                lattice[N//2 + x][N//2 + y] = 1\n",
    "                count +=1\n",
    "            else: lattice[N//2 + x][N//2 + y] = 2\n",
    "        else: \n",
    "            continue\n",
    "    im.append([plt.imshow(lattice, animated=True, cmap = 'hot')])\n",
    "    \n",
    "percolation = anim.ArtistAnimation(fig, im, interval = 50, blit = True)\n",
    "percolation.save(\"percolation04.html\")\n",
    "    "
   ]
  },
  {
   "cell_type": "code",
   "execution_count": null,
   "metadata": {},
   "outputs": [],
   "source": []
  }
 ],
 "metadata": {
  "kernelspec": {
   "display_name": "Python 3",
   "language": "python",
   "name": "python3"
  },
  "language_info": {
   "codemirror_mode": {
    "name": "ipython",
    "version": 3
   },
   "file_extension": ".py",
   "mimetype": "text/x-python",
   "name": "python",
   "nbconvert_exporter": "python",
   "pygments_lexer": "ipython3",
   "version": "3.7.3"
  },
  "latex_envs": {
   "LaTeX_envs_menu_present": true,
   "autoclose": false,
   "autocomplete": true,
   "bibliofile": "biblio.bib",
   "cite_by": "apalike",
   "current_citInitial": 1,
   "eqLabelWithNumbers": true,
   "eqNumInitial": 1,
   "hotkeys": {
    "equation": "Ctrl-E",
    "itemize": "Ctrl-I"
   },
   "labels_anchors": false,
   "latex_user_defs": false,
   "report_style_numbering": false,
   "user_envs_cfg": false
  },
  "toc": {
   "base_numbering": 1,
   "nav_menu": {},
   "number_sections": true,
   "sideBar": true,
   "skip_h1_title": false,
   "title_cell": "Table of Contents",
   "title_sidebar": "Contents",
   "toc_cell": false,
   "toc_position": {},
   "toc_section_display": true,
   "toc_window_display": false
  },
  "varInspector": {
   "cols": {
    "lenName": 16,
    "lenType": 16,
    "lenVar": 40
   },
   "kernels_config": {
    "python": {
     "delete_cmd_postfix": "",
     "delete_cmd_prefix": "del ",
     "library": "var_list.py",
     "varRefreshCmd": "print(var_dic_list())"
    },
    "r": {
     "delete_cmd_postfix": ") ",
     "delete_cmd_prefix": "rm(",
     "library": "var_list.r",
     "varRefreshCmd": "cat(var_dic_list()) "
    }
   },
   "types_to_exclude": [
    "module",
    "function",
    "builtin_function_or_method",
    "instance",
    "_Feature"
   ],
   "window_display": false
  }
 },
 "nbformat": 4,
 "nbformat_minor": 2
}
