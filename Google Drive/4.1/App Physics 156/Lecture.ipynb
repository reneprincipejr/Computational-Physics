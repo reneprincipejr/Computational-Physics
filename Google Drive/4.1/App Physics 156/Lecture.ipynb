{
 "cells": [
  {
   "cell_type": "code",
   "execution_count": 1,
   "metadata": {},
   "outputs": [
    {
     "data": {
      "text/plain": [
       "2"
      ]
     },
     "execution_count": 1,
     "metadata": {},
     "output_type": "execute_result"
    }
   ],
   "source": [
    "f = lambda x,y: x+y\n",
    "f(1,1)"
   ]
  },
  {
   "cell_type": "code",
   "execution_count": 2,
   "metadata": {},
   "outputs": [
    {
     "data": {
      "text/plain": [
       "32.0"
      ]
     },
     "execution_count": 2,
     "metadata": {},
     "output_type": "execute_result"
    }
   ],
   "source": [
    "fahrenheit = lambda celsius : 9/5*celsius + 32\n",
    "fahrenheit(0)"
   ]
  },
  {
   "cell_type": "code",
   "execution_count": null,
   "metadata": {},
   "outputs": [],
   "source": [
    "contour plot"
   ]
  },
  {
   "cell_type": "markdown",
   "metadata": {},
   "source": [
    "August 15, 2018"
   ]
  },
  {
   "cell_type": "markdown",
   "metadata": {},
   "source": [
    "Chi Square Distribution = NORMAL\n",
    "\n",
    "NON-LINEAR FIT\n",
    "\n",
    "If we perform many instances of an experiment, e.g. output f(t) as a function of time t, we can get a distribution of\n",
    "values f for a givne t. But what if we perform just one experiment?"
   ]
  },
  {
   "cell_type": "raw",
   "metadata": {},
   "source": [
    "\n",
    "Our objective is to use the data to estimate the best set of parameters -- a,om, phi, and b.\n",
    "\n",
    "The fitting function is that of a damped oscillation. The parameters to be determined are the amplitude 'a', angular speed 'om'. phase 'phi' and damping factor 'b'."
   ]
  },
  {
   "cell_type": "code",
   "execution_count": null,
   "metadata": {
    "collapsed": true
   },
   "outputs": [],
   "source": [
    "data = np.loadtxt(\"\")\n",
    "plt.plot\n",
    "\n",
    "#define the fitting function\n",
    "def fitfunc(t,a,om,phi,b):\n",
    "    return a*np.sin(om*tr + phi) *np.exp(-b*t)"
   ]
  },
  {
   "cell_type": "markdown",
   "metadata": {},
   "source": [
    "In this example, we have N = 11 datapoints and M = 4 parameters. \n",
    "Let us perform a nonlinear fit using a built-in function in scipy and look at the resulting output and its plot\n"
   ]
  },
  {
   "cell_type": "code",
   "execution_count": null,
   "metadata": {},
   "outputs": [],
   "source": [
    "fit = curve_fit(fitfunc, data [:,0], data[:,1], p0 - [1.1, 1.])\\\n",
    "#run help(curve_fit). What's p0?\n",
    "print(fit)\n",
    "plt.plot(data[:,0],data[:,1], 'o')\n",
    "plt.plot(data[:,0], fitfunc(data[:,0], *fit)\n",
    "         \n"
   ]
  },
  {
   "cell_type": "markdown",
   "metadata": {},
   "source": [
    "In a chi squared (or chi2 in scipy.stats and Eq 1.29 in Kinzel), the no. of degress of freedom is given by the no. of"
   ]
  },
  {
   "cell_type": "code",
   "execution_count": 4,
   "metadata": {},
   "outputs": [],
   "source": [
    "import numpy as np\n",
    "x = np.random.seed(12)"
   ]
  },
  {
   "cell_type": "code",
   "execution_count": null,
   "metadata": {},
   "outputs": [],
   "source": []
  }
 ],
 "metadata": {
  "kernelspec": {
   "display_name": "Python 3",
   "language": "python",
   "name": "python3"
  },
  "language_info": {
   "codemirror_mode": {
    "name": "ipython",
    "version": 3
   },
   "file_extension": ".py",
   "mimetype": "text/x-python",
   "name": "python",
   "nbconvert_exporter": "python",
   "pygments_lexer": "ipython3",
   "version": "3.6.4"
  }
 },
 "nbformat": 4,
 "nbformat_minor": 2
}
