{
 "cells": [
  {
   "cell_type": "code",
   "execution_count": 3,
   "metadata": {},
   "outputs": [
    {
     "name": "stdout",
     "output_type": "stream",
     "text": [
      "\n",
      "Chain Vibrations\n",
      "\n"
     ]
    },
    {
     "data": {
      "image/png": "[encoded data removed]",
      "text/plain": [
       "<matplotlib.figure.Figure at 0x120eb12c6d8>"
      ]
     },
     "metadata": {},
     "output_type": "display_data"
    },
    {
     "name": "stdout",
     "output_type": "stream",
     "text": [
      "\n",
      "Eigenvectors for q = 0: [[5.18871540e-01 5.00000000e-01 7.07106781e-01 2.86128473e-01]\n",
      " [6.62590637e-01 5.00000000e-01 5.33037657e-17 7.46886103e-01]\n",
      " [5.18871540e-01 5.00000000e-01 7.07106781e-01 2.86128473e-01]\n",
      " [1.50060978e-01 5.00000000e-01 4.39985806e-17 5.27657220e-01]]\n"
     ]
    },
    {
     "data": {
      "image/png": "[encoded data removed]",
      "text/plain": [
       "<matplotlib.figure.Figure at 0x120eae48048>"
      ]
     },
     "metadata": {},
     "output_type": "display_data"
    }
   ],
   "source": [
    "# -*- coding: utf-8 -*-\n",
    "\"\"\"\n",
    "Chain Vibrations Code\n",
    "Section 2.3 of Physics by Computer - Kinzel and Reents\n",
    "\"\"\"\n",
    "\n",
    "import numpy as np\n",
    "import matplotlib.pyplot as plt\n",
    "from scipy.linalg import eigvals, inv, eig\n",
    "from matplotlib.animation import FuncAnimation, FFMpegFileWriter\n",
    "\n",
    "\n",
    "print(\"\\nChain Vibrations\\n\")\n",
    "\n",
    "# Initialize system parameters and matrices\n",
    "f = 1.0 # Spring Constant\n",
    "m1 = 0.4\n",
    "m2 = 1.0\n",
    "\n",
    "F = lambda q: np.array([[2*f, -f, 0, -f*np.exp(-1j*q)],\n",
    "                        [-f, 2*f, -f, 0],\n",
    "                        [0, -f, 2*f, -f],\n",
    "                        [-f*np.exp(1j*q), 0, -f, 2*f]])\n",
    "M = np.diag([m1, m1, m1, m2])\n",
    "\n",
    "# Set-up eigenvalue matrix\n",
    "eig_mat = lambda q: inv(M).dot(F(q))\n",
    "\n",
    "\n",
    "# Plot eigenvalues (normal mode frequencies) as a function of wavenumber\n",
    "x_axis = np.arange(-np.pi, np.pi, np.pi/50)\n",
    "eigenlist = [eigvals(eig_mat(x)) for x in x_axis]\n",
    "eigenlist_2 = np.sqrt(np.abs(eigenlist))\n",
    "\n",
    "# Figure 2.12: Frequencies of the four eigenmodes of the linear chain.\n",
    "plt.figure(1)\n",
    "plt.plot(x_axis, eigenlist_2, \"k.\")\n",
    "plt.xticks([-np.pi, -np.pi/2, 0, np.pi/2, np.pi],\n",
    "           [r\"$-\\pi$\", r\"$-\\frac{\\pi}{2}$\", \"0\", r\"$\\frac{\\pi}{2}$\",\n",
    "            r\"$\\pi$\"])\n",
    "plt.xlabel('q', size='xx-large')\n",
    "plt.ylabel(r'$\\omega$', size='xx-large')\n",
    "plt.show()\n",
    "\n",
    "# Print eigenvectors for q = 0\n",
    "eigen_sys = eig(eig_mat(0.0))\n",
    "omega = np.sqrt(np.abs(eigen_sys[0])) # Normal Mode Frequencies\n",
    "eigen_vecs = np.abs(eigen_sys[1]) # Eigenvectors\n",
    "print(\"\\nEigenvectors for q = 0:\", eigen_vecs)\n",
    "\n",
    "# Start of anime code\n",
    "fig, ax = plt.subplots()\n",
    "ln, = plt.plot([], [], 'ro', ms=20, animated=True)\n",
    "t = np.linspace(0, 10, 1000) # Time of anime\n",
    "\n",
    "# Plot line dividers \n",
    "plt.plot([-3,3], [0.5, 0.5], 'k')\n",
    "plt.plot([-3,3], [1.5, 1.5], 'k')\n",
    "plt.plot([-3,3], [2.5, 2.5], 'k')\n",
    "\n",
    "\n",
    "def init():\n",
    "    \"\"\"\n",
    "    Initial values of the plot and axis limits.\n",
    "    \"\"\"\n",
    "    ax.set_xlim(-3, 3)\n",
    "    ax.set_ylim(-0.5, 3.5)\n",
    "    ln.set_data([], [])\n",
    "    return ln,\n",
    "    \n",
    "def update(frame):\n",
    "    \"\"\"\n",
    "    Function called for every frame in the animation. Each s_# is a vector\n",
    "    containing the displacement functions of the mass for a given frequency of\n",
    "    oscillation. \n",
    "    Amplitude of oscillation came from eigenvectors.\n",
    "    Frequency of oscillation came from the eigenvalues.\n",
    "    \"\"\"\n",
    "    s1 = eigen_vecs[:,1]*np.sin(omega[0]*frame) + np.array([-1.8, -0.6, 0.6, \n",
    "                   1.8])\n",
    "    s2 = eigen_vecs[:,3]*np.array([np.sin(omega[0]*frame), \n",
    "                   np.sin(omega[0]*frame), np.sin(omega[0]*frame), \n",
    "                   np.sin(omega[0]*frame + np.pi)]) + np.array([-1.8,-0.6,0.6,\n",
    "                   1.8])\n",
    "    s3 = eigen_vecs[:,2]*np.array([np.sin(omega[0]*frame), \n",
    "                   np.sin(omega[0]*frame), np.sin(omega[0]*frame + np.pi), \n",
    "                   np.sin(omega[0]*frame)]) + np.array([-1.8,-0.6,0.6,1.8])  \n",
    "    s4 = eigen_vecs[:,0]*np.array([np.sin(omega[0]*frame), \n",
    "                   np.sin(omega[0]*frame + np.pi), np.sin(omega[0]*frame), \n",
    "                   np.sin(omega[0]*frame)]) + np.array([-1.8,-0.6,0.6,1.8])\n",
    "    \n",
    "    # Set positions of masses along the y-axis (four masses each position).\n",
    "    y = np.array([0, 0, 0, 0, 1, 1, 1, 1, 2, 2, 2, 2, 3, 3, 3, 3])\n",
    "    \n",
    "    ln.set_data(np.concatenate((s1, s2, s3, s4)), y)\n",
    "    return ln,\n",
    "\n",
    "anim = FuncAnimation(fig, update, frames=t, init_func=init, blit=True, \n",
    "                     interval=10, repeat=True)\n",
    "\n",
    "\n"
   ]
  },
  {
   "cell_type": "code",
   "execution_count": null,
   "metadata": {},
   "outputs": [],
   "source": []
  }
 ],
 "metadata": {
  "kernelspec": {
   "display_name": "Python 3",
   "language": "python",
   "name": "python3"
  },
  "language_info": {
   "codemirror_mode": {
    "name": "ipython",
    "version": 3
   },
   "file_extension": ".py",
   "mimetype": "text/x-python",
   "name": "python",
   "nbconvert_exporter": "python",
   "pygments_lexer": "ipython3",
   "version": "3.6.4"
  }
 },
 "nbformat": 4,
 "nbformat_minor": 2
}
