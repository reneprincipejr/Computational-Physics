{
 "cells": [
  {
   "cell_type": "code",
   "execution_count": 182,
   "metadata": {},
   "outputs": [],
   "source": [
    "import numpy as np\n",
    "import matplotlib.pyplot as plt\n",
    "import matplotlib.cm as cm"
   ]
  },
  {
   "cell_type": "code",
   "execution_count": 211,
   "metadata": {
    "scrolled": true
   },
   "outputs": [
    {
     "data": {
      "text/plain": [
       "<matplotlib.figure.Figure at 0x21d9fd03fd0>"
      ]
     },
     "metadata": {},
     "output_type": "display_data"
    }
   ],
   "source": [
    "# lattice size\n",
    "L = 100\n",
    "lattice = np.zeros([L,L])\n",
    "\n",
    "# central lattice site\n",
    "x_i = 0\n",
    "y_j = 0\n",
    "\n",
    "x = [x_i]\n",
    "y = [y_j]\n",
    "\n",
    "# relevant radius\n",
    "r_max = L/2\n",
    "r_start = r_max + 3\n",
    "r_d = r_max + 5\n",
    "r_stop = 100*r_max\n",
    "\n",
    "#iterations\n",
    "N = 1000\n",
    "\n",
    "\n",
    "fig = plt.figure()\n",
    "plt.show()"
   ]
  },
  {
   "cell_type": "code",
   "execution_count": 225,
   "metadata": {},
   "outputs": [],
   "source": [
    "# select a starting point\n",
    "def start():\n",
    "    phi = np.random.rand()*2*np.pi\n",
    "    x_s = r_start*np.sin(phi)\n",
    "    y_s = r_start*np.cos(phi)\n",
    "    #return [x_i, y_j]\n",
    "    \n",
    "# random walk\n",
    "def walk():\n",
    "    x_i = 0\n",
    "    y_j = 0\n",
    "    nextstep = np.random.randint(0,3)\n",
    "    if nextstep == 0:\n",
    "        x_i += 1\n",
    "    elif nextstep == 1:\n",
    "        x_i -= 1\n",
    "    elif nextstep == 2:\n",
    "        y_j += 1\n",
    "    elif nextstep == 3:\n",
    "        y_j -= 1\n",
    "\n",
    "# attach to the aggregate \n",
    "# when its adjacent to central lattice point \n",
    "\n",
    "def aggregate():\n",
    "    x[x_i + L/2][y_j + L/2] = 1\n",
    "    r_max = max(rmax, np.sqrt((x_i)**2 + (y_j)**2))\n",
    "    \n",
    "\n",
    "def circlewalk():\n",
    "    phi = np.random.rand()*2*np.pi\n",
    "    r = np.sqrt((x_i)**2 + (y_j)**2)\n",
    "    x_i += (r-r_start)*np.sin(phi)\n",
    "    y_j += (r-r_start)*np.cos(phi)\n"
   ]
  },
  {
   "cell_type": "code",
   "execution_count": 228,
   "metadata": {},
   "outputs": [],
   "source": [
    "# command\n",
    "\n",
    "def fate():\n",
    "    r = np.sqrt((x_i)**2 + (y_j)**2)\n",
    "    if r > r_stop:\n",
    "        return \"kill\"\n",
    "    elif r >= r_d:\n",
    "        return \"circle jump\"\n",
    "    elif lattice[x_i + 1 + L/2][y_j + L/2] + lattice[x_i - 1 + L/2][y_j + L/2] + lattice[x_i + L/2][y_j + 1 + L/2] +lattice[x_i + L/2][y_j - 1 + L/2] > 0:\n",
    "        return \"aggregate\"\n",
    "    else:\n",
    "        return 'jump'\n",
    "    \n",
    "def newpoint():\n",
    "    start()\n",
    "    walk()\n",
    "    state = fate()\n",
    "    if state == 'kill':\n",
    "        start()\n",
    "        walk()\n",
    "    elif state == 'aggregate':\n",
    "        aggregate()\n",
    "        r_start = r_max\n",
    "        r_d = r_max + 5\n",
    "        r_stop = 100*r_max\n",
    "        #break\n",
    "    elif state == 'jump':\n",
    "        jump()\n",
    "    elif state == 'circle jump':\n",
    "        circlewalk()\n",
    "\n",
    "def run():\n",
    "    lattice[50][50] = 1\n",
    "    for i in range(1,N):\n",
    "        newpoint()\n"
   ]
  },
  {
   "cell_type": "code",
   "execution_count": 229,
   "metadata": {},
   "outputs": [
    {
     "ename": "IndexError",
     "evalue": "only integers, slices (`:`), ellipsis (`...`), numpy.newaxis (`None`) and integer or boolean arrays are valid indices",
     "output_type": "error",
     "traceback": [
      "\u001b[1;31m---------------------------------------------------------------------------\u001b[0m",
      "\u001b[1;31mIndexError\u001b[0m                                Traceback (most recent call last)",
      "\u001b[1;32m<ipython-input-229-191a46ba33cd>\u001b[0m in \u001b[0;36m<module>\u001b[1;34m()\u001b[0m\n\u001b[1;32m----> 1\u001b[1;33m \u001b[0mrun\u001b[0m\u001b[1;33m(\u001b[0m\u001b[1;33m)\u001b[0m\u001b[1;33m\u001b[0m\u001b[0m\n\u001b[0m\u001b[0;32m      2\u001b[0m \u001b[0mplt\u001b[0m\u001b[1;33m.\u001b[0m\u001b[0mmatshow\u001b[0m\u001b[1;33m(\u001b[0m\u001b[0mlattice\u001b[0m\u001b[1;33m,\u001b[0m \u001b[0mcmap\u001b[0m\u001b[1;33m=\u001b[0m\u001b[0mcm\u001b[0m\u001b[1;33m.\u001b[0m\u001b[0mgray_r\u001b[0m\u001b[1;33m)\u001b[0m\u001b[1;33m\u001b[0m\u001b[0m\n\u001b[0;32m      3\u001b[0m \u001b[0mplt\u001b[0m\u001b[1;33m.\u001b[0m\u001b[0mshow\u001b[0m\u001b[1;33m(\u001b[0m\u001b[1;33m)\u001b[0m\u001b[1;33m\u001b[0m\u001b[0m\n\u001b[0;32m      4\u001b[0m \u001b[1;33m\u001b[0m\u001b[0m\n",
      "\u001b[1;32m<ipython-input-228-a8a4c6a8e400>\u001b[0m in \u001b[0;36mrun\u001b[1;34m()\u001b[0m\n\u001b[0;32m     33\u001b[0m     \u001b[0mlattice\u001b[0m\u001b[1;33m[\u001b[0m\u001b[1;36m50\u001b[0m\u001b[1;33m]\u001b[0m\u001b[1;33m[\u001b[0m\u001b[1;36m50\u001b[0m\u001b[1;33m]\u001b[0m \u001b[1;33m=\u001b[0m \u001b[1;36m1\u001b[0m\u001b[1;33m\u001b[0m\u001b[0m\n\u001b[0;32m     34\u001b[0m     \u001b[1;32mfor\u001b[0m \u001b[0mi\u001b[0m \u001b[1;32min\u001b[0m \u001b[0mrange\u001b[0m\u001b[1;33m(\u001b[0m\u001b[1;36m1\u001b[0m\u001b[1;33m,\u001b[0m\u001b[0mN\u001b[0m\u001b[1;33m)\u001b[0m\u001b[1;33m:\u001b[0m\u001b[1;33m\u001b[0m\u001b[0m\n\u001b[1;32m---> 35\u001b[1;33m         \u001b[0mnewpoint\u001b[0m\u001b[1;33m(\u001b[0m\u001b[1;33m)\u001b[0m\u001b[1;33m\u001b[0m\u001b[0m\n\u001b[0m",
      "\u001b[1;32m<ipython-input-228-a8a4c6a8e400>\u001b[0m in \u001b[0;36mnewpoint\u001b[1;34m()\u001b[0m\n\u001b[0;32m     15\u001b[0m     \u001b[0mstart\u001b[0m\u001b[1;33m(\u001b[0m\u001b[1;33m)\u001b[0m\u001b[1;33m\u001b[0m\u001b[0m\n\u001b[0;32m     16\u001b[0m     \u001b[0mwalk\u001b[0m\u001b[1;33m(\u001b[0m\u001b[1;33m)\u001b[0m\u001b[1;33m\u001b[0m\u001b[0m\n\u001b[1;32m---> 17\u001b[1;33m     \u001b[0mstate\u001b[0m \u001b[1;33m=\u001b[0m \u001b[0mfate\u001b[0m\u001b[1;33m(\u001b[0m\u001b[1;33m)\u001b[0m\u001b[1;33m\u001b[0m\u001b[0m\n\u001b[0m\u001b[0;32m     18\u001b[0m     \u001b[1;32mif\u001b[0m \u001b[0mstate\u001b[0m \u001b[1;33m==\u001b[0m \u001b[1;34m'kill'\u001b[0m\u001b[1;33m:\u001b[0m\u001b[1;33m\u001b[0m\u001b[0m\n\u001b[0;32m     19\u001b[0m         \u001b[0mstart\u001b[0m\u001b[1;33m(\u001b[0m\u001b[1;33m)\u001b[0m\u001b[1;33m\u001b[0m\u001b[0m\n",
      "\u001b[1;32m<ipython-input-228-a8a4c6a8e400>\u001b[0m in \u001b[0;36mfate\u001b[1;34m()\u001b[0m\n\u001b[0;32m      7\u001b[0m     \u001b[1;32melif\u001b[0m \u001b[0mr\u001b[0m \u001b[1;33m>=\u001b[0m \u001b[0mr_d\u001b[0m\u001b[1;33m:\u001b[0m\u001b[1;33m\u001b[0m\u001b[0m\n\u001b[0;32m      8\u001b[0m         \u001b[1;32mreturn\u001b[0m \u001b[1;34m\"circle jump\"\u001b[0m\u001b[1;33m\u001b[0m\u001b[0m\n\u001b[1;32m----> 9\u001b[1;33m     \u001b[1;32melif\u001b[0m \u001b[0mlattice\u001b[0m\u001b[1;33m[\u001b[0m\u001b[0mx_i\u001b[0m \u001b[1;33m+\u001b[0m \u001b[1;36m1\u001b[0m \u001b[1;33m+\u001b[0m \u001b[0mL\u001b[0m\u001b[1;33m/\u001b[0m\u001b[1;36m2\u001b[0m\u001b[1;33m]\u001b[0m\u001b[1;33m[\u001b[0m\u001b[0my_j\u001b[0m \u001b[1;33m+\u001b[0m \u001b[0mL\u001b[0m\u001b[1;33m/\u001b[0m\u001b[1;36m2\u001b[0m\u001b[1;33m]\u001b[0m \u001b[1;33m+\u001b[0m \u001b[0mlattice\u001b[0m\u001b[1;33m[\u001b[0m\u001b[0mx_i\u001b[0m \u001b[1;33m-\u001b[0m \u001b[1;36m1\u001b[0m \u001b[1;33m+\u001b[0m \u001b[0mL\u001b[0m\u001b[1;33m/\u001b[0m\u001b[1;36m2\u001b[0m\u001b[1;33m]\u001b[0m\u001b[1;33m[\u001b[0m\u001b[0my_j\u001b[0m \u001b[1;33m+\u001b[0m \u001b[0mL\u001b[0m\u001b[1;33m/\u001b[0m\u001b[1;36m2\u001b[0m\u001b[1;33m]\u001b[0m \u001b[1;33m+\u001b[0m \u001b[0mlattice\u001b[0m\u001b[1;33m[\u001b[0m\u001b[0mx_i\u001b[0m \u001b[1;33m+\u001b[0m \u001b[0mL\u001b[0m\u001b[1;33m/\u001b[0m\u001b[1;36m2\u001b[0m\u001b[1;33m]\u001b[0m\u001b[1;33m[\u001b[0m\u001b[0my_j\u001b[0m \u001b[1;33m+\u001b[0m \u001b[1;36m1\u001b[0m \u001b[1;33m+\u001b[0m \u001b[0mL\u001b[0m\u001b[1;33m/\u001b[0m\u001b[1;36m2\u001b[0m\u001b[1;33m]\u001b[0m \u001b[1;33m+\u001b[0m\u001b[0mlattice\u001b[0m\u001b[1;33m[\u001b[0m\u001b[0mx_i\u001b[0m \u001b[1;33m+\u001b[0m \u001b[0mL\u001b[0m\u001b[1;33m/\u001b[0m\u001b[1;36m2\u001b[0m\u001b[1;33m]\u001b[0m\u001b[1;33m[\u001b[0m\u001b[0my_j\u001b[0m \u001b[1;33m-\u001b[0m \u001b[1;36m1\u001b[0m \u001b[1;33m+\u001b[0m \u001b[0mL\u001b[0m\u001b[1;33m/\u001b[0m\u001b[1;36m2\u001b[0m\u001b[1;33m]\u001b[0m \u001b[1;33m>\u001b[0m \u001b[1;36m0\u001b[0m\u001b[1;33m:\u001b[0m\u001b[1;33m\u001b[0m\u001b[0m\n\u001b[0m\u001b[0;32m     10\u001b[0m         \u001b[1;32mreturn\u001b[0m \u001b[1;34m\"aggregate\"\u001b[0m\u001b[1;33m\u001b[0m\u001b[0m\n\u001b[0;32m     11\u001b[0m     \u001b[1;32melse\u001b[0m\u001b[1;33m:\u001b[0m\u001b[1;33m\u001b[0m\u001b[0m\n",
      "\u001b[1;31mIndexError\u001b[0m: only integers, slices (`:`), ellipsis (`...`), numpy.newaxis (`None`) and integer or boolean arrays are valid indices"
     ]
    }
   ],
   "source": [
    "run()\n",
    "plt.matshow(lattice, cmap=cm.gray_r)\n",
    "plt.show()\n",
    "    "
   ]
  },
  {
   "cell_type": "code",
   "execution_count": 158,
   "metadata": {},
   "outputs": [
    {
     "name": "stdout",
     "output_type": "stream",
     "text": [
      "-19 5 20.8806130178211\n"
     ]
    }
   ],
   "source": [
    "\n",
    "\n",
    "\n",
    "#i = 0\n",
    "#while i < points:\n",
    "\n",
    "#selecting\n",
    "x_1 = np.random.randint(-N/2,N/2)\n",
    "y_1 = np.random.randint(-N/2,N/2)\n",
    "R_start = np.sqrt((y_1-y[0])**2+(x_1-x[0])**2)\n",
    "if R_s < R_max:\n",
    "    print(x_1, y_1, R_s)\n",
    "    x.append(x_1)\n",
    "    y.append(y_1)\n",
    "    j = 0\n",
    "    for j in range(iterations):\n",
    "        nextstep = np.random.randint(0,3)\n",
    "      #  R_current = np.sqrt((y_1-y[0])**2+(x_1-x[0])**2)\n",
    "      #  R_previous = np.sqrt((y[-1]-y[0])**2+(x[-1]-x[0])**2)\n",
    "        if nextstep == 0:\n",
    "            x_1 += 1\n",
    "        if nextstep == 1:\n",
    "            x_1 -= 1\n",
    "        if nextstep == 2:\n",
    "            y_1 += 1\n",
    "        if nextstep == 3:\n",
    "            y_1 -= 1\n",
    "        if R_current <= R_max:\n",
    "            if R_current < R_previous:\n",
    "                x.append(x_1)\n",
    "                y.append(y_1)\n",
    "                print(x_1,y_1, R_current, R_previous)\n",
    "                R_previous = R_current\n",
    "                j += 1\n",
    "\n",
    "    i += 1\n"
   ]
  },
  {
   "cell_type": "code",
   "execution_count": 217,
   "metadata": {},
   "outputs": [
    {
     "data": {
      "image/png": "[encoded data removed]",
      "text/plain": [
       "<matplotlib.figure.Figure at 0x21d9fd85978>"
      ]
     },
     "metadata": {},
     "output_type": "display_data"
    }
   ],
   "source": [
    "plt.xlim(-N/2, N/2)\n",
    "plt.ylim(-N/2, N/2)\n",
    "plt.plot(x,y, 'r.', alpha = 1)\n",
    "plt.show()\n"
   ]
  },
  {
   "cell_type": "code",
   "execution_count": null,
   "metadata": {},
   "outputs": [],
   "source": []
  }
 ],
 "metadata": {
  "kernelspec": {
   "display_name": "Python 3",
   "language": "python",
   "name": "python3"
  },
  "language_info": {
   "codemirror_mode": {
    "name": "ipython",
    "version": 3
   },
   "file_extension": ".py",
   "mimetype": "text/x-python",
   "name": "python",
   "nbconvert_exporter": "python",
   "pygments_lexer": "ipython3",
   "version": "3.6.4"
  }
 },
 "nbformat": 4,
 "nbformat_minor": 2
}
