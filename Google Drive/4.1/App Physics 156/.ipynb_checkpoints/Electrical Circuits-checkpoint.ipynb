{
 "cells": [
  {
   "cell_type": "code",
   "execution_count": 203,
   "metadata": {},
   "outputs": [],
   "source": [
    "import numpy as np\n",
    "import sympy\n",
    "import cmath\n",
    "from sympy import Symbol, simplify\n",
    "from sympy.solvers import solve"
   ]
  },
  {
   "cell_type": "code",
   "execution_count": null,
   "metadata": {},
   "outputs": [],
   "source": [
    "Vo = Symbol(\"Vo\")\n",
    "Vr = Symbol(\"Vr\")\n",
    "Ir = Symbol(\"Ir\")\n",
    "Ic = Symbol(\"Ic\")\n",
    "Il = Symbol(\"Il\")\n",
    "r = Symbol(\"r\")\n",
    "omega = Symbol(\"omega\")\n",
    "c = Symbol(\"c\")\n",
    "l = Symbol(\"l\")\n",
    "\n",
    "\n",
    "Eq = (Vr + Vo -1, \n",
    "      Ir - Ic - Il, \n",
    "      Vr - r * Ir,\n",
    "      Vo - Ic / 1j*omega*c, \n",
    "      Vo - 1j*omega*l / Il)\n",
    "\n",
    "sol = solve(Eq, (Vr, Vo, Ir, Ic, Il))\n",
    "Vos = simplify(sol[1])\n",
    "Vos"
   ]
  },
  {
   "cell_type": "code",
   "execution_count": null,
   "metadata": {},
   "outputs": [],
   "source": [
    "import matplotlib.pyplot as plt\n",
    "\n",
    "C = 1e-6\n",
    "L = 1e-3\n",
    "Resistance = (100, 300, 900, 2700)\n",
    "omega = np.linspace(20000,43246,10000)\n",
    "\n",
    "def Vo(omega):\n",
    "    C = 1e-6\n",
    "    L = 1e-3\n",
    "    return (-1j*omega*L)/(-1j*omega*L - R + R*C*L*omega*omega)\n",
    "\n",
    "for k in range(len(Resistance)):\n",
    "    R = Resistance[k]\n",
    "    Vos = []\n",
    "    for i in range(len(omega)):\n",
    "        w = omega[i]\n",
    "        Vos.append(Vo(w))\n",
    "    plt.plot(omega,np.abs(Vos))\n",
    "plt.xlabel(\"Omega\")\n",
    "plt.ylabel(\"|Vo|\")\n",
    "plt.xticks([20000, 30000, 40000])\n",
    "plt.show()\n",
    "\n",
    "for k in range(len(Resistance)):\n",
    "    R = Resistance[k]\n",
    "    Vos = []\n",
    "    for i in range(len(omega)):\n",
    "        w = omega[i]\n",
    "        Vos.append(Vo(w))\n",
    "    plt.plot(omega,np.angle(Vos))\n",
    "plt.xlabel(\"Omega\")\n",
    "plt.ylabel(\"phase(Vo)\")\n",
    "plt.xticks([20000, 30000, 40000])\n",
    "plt.show()\n",
    "\n",
    "        \n",
    "        \n",
    "        \n",
    "    "
   ]
  },
  {
   "cell_type": "code",
   "execution_count": null,
   "metadata": {},
   "outputs": [],
   "source": [
    "w_r = 1/np.sqrt(L*C) #resonantfrequency\n",
    "T = 256 #Selected N\n",
    "def vsaw(t):\n",
    "    return -1+2*(t)\n",
    "t = np.arange(0,T)\n",
    "alist = []\n",
    "\n",
    "for i in range(256):\n",
    "    a = vsaw((i)/256)\n",
    "    alist.append(a)\n",
    "w_r = 1/np.sqrt(L*C)\n",
    "blist = np.sqrt(T)*np.fft.fft(alist)\n",
    "\n",
    "plt.plot(t/T,alist)\n",
    "plt.axhline(y=0, color = \"k\")\n",
    "plt.show()\n"
   ]
  },
  {
   "cell_type": "code",
   "execution_count": null,
   "metadata": {},
   "outputs": [],
   "source": [
    "def plot3(f, r):\n",
    "    volist = []\n",
    "    s = np.arange(-127,129)\n",
    "    for i in s:\n",
    "        w_i = f * w_r #Omega_i (2Pi/T) == Resonance Frequency * Resonance\n",
    "        omega = w_i*i\n",
    "        r = omega/f # == w_r\n",
    "        new_vos = Vo(r).evalf()\n",
    "        volist.append(new_vos)\n",
    "        print(new_vos)\n",
    "    \n",
    "plot3(1, 2700.0)\n",
    "plot3(1/3., 200.0)\n",
    "plot3(3.0, 5.0)\n",
    "\n",
    "    "
   ]
  },
  {
   "cell_type": "code",
   "execution_count": null,
   "metadata": {},
   "outputs": [],
   "source": [
    "def plot3(f, r):\n",
    "    w_i = f * w_r #Omega_i (2Pi/T) == Resonance Frequency * Resonance\n",
    "    volist = np.concatenate(([complex(Vos.subs({omega: w_i*s, r:w}).evalf()) for s in np.arange(1, 129)][0.0],\n",
    "                             [complex(Vos.subs({omega: w_i*s, r:w}).evalf()) for s in np.arange(-127, 0)]))\n",
    "    vtrans = np.fft.ifft(blist * volist)\n",
    "    plotlist = np.array([[(k+1)/256., vtrans[k%256]] for k in range(768)])\n",
    "    plt.plot(plotlist[:,0], plotlist[:,1])\n",
    "    plt.axhline(0)\n",
    "    plt.show()\n",
    "\n",
    "plot3(1, 2700.0)\n",
    "plot3(1/3., 200.0)\n",
    "plot3(3.0, 5.0)\n",
    "\n"
   ]
  },
  {
   "cell_type": "code",
   "execution_count": null,
   "metadata": {},
   "outputs": [],
   "source": []
  }
 ],
 "metadata": {
  "kernelspec": {
   "display_name": "Python 3",
   "language": "python",
   "name": "python3"
  },
  "language_info": {
   "codemirror_mode": {
    "name": "ipython",
    "version": 3
   },
   "file_extension": ".py",
   "mimetype": "text/x-python",
   "name": "python",
   "nbconvert_exporter": "python",
   "pygments_lexer": "ipython3",
   "version": "3.6.4"
  }
 },
 "nbformat": 4,
 "nbformat_minor": 2
}
