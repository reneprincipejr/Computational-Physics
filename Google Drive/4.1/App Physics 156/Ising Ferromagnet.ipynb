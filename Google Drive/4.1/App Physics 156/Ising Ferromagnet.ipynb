{
 "cells": [
  {
   "cell_type": "code",
   "execution_count": 57,
   "metadata": {},
   "outputs": [],
   "source": [
    "import numpy as np\n",
    "import matplotlib.pyplot as plt\n",
    "import matplotlib.animation as animation\n",
    "np.random.seed(69)"
   ]
  },
  {
   "cell_type": "code",
   "execution_count": 58,
   "metadata": {},
   "outputs": [],
   "source": [
    "def magnetization(lattice):\n",
    "    return np.sum(lattice/L)\n",
    "\n",
    "def metropolis(change_E,y,x,lattice,T):\n",
    "    r = np.random.random()\n",
    "    E = np.exp(change_E/(k_B*T))\n",
    "    if r < E:\n",
    "        lattice[y,x] = -lattice[y,x]\n",
    "        #note that if change_E>=0, r is always < np.exp(change_E/(k_B*T))\n",
    "    return r, E, lattice\n",
    "\n",
    "def deltaEnergy(y,x):  \n",
    "    # periodic lattice\n",
    "    per = np.empty([L+2,L+2],dtype=int) \n",
    "    per[1:L+1,1:L+1] = lattice\n",
    "    per[0,1:L+1] = lattice[L-1]\n",
    "    per[L+1,1:L+1] = lattice[0]\n",
    "    per[1:L+1,0] = lattice[:,L-1]\n",
    "    per[1:L+1,L+1] = lattice[:,0]\n",
    "    X = x+1\n",
    "    Y = y+1\n",
    "    S_j = per[Y-1,X]+per[Y+1,X]+per[Y,X+1]+per[Y,X-1]\n",
    "    h_i = J*S_j + h\n",
    "\n",
    "    return -2*lattice[y,x]*h_i\n",
    "\n",
    "def update(lattice):\n",
    "    '''Perform the algorithm for simulating Ising ferromagnet.'''\n",
    "    y,x = np.random.randint(L),np.random.randint(L) \n",
    "    change_E = deltaEnergy(y,x)\n",
    "    r, E, lattice_f =  metropolis(change_E,y,x,lattice,T)\n",
    "    M = magnetization(lattice_f)\n",
    "    return y,x, change_E, r, E, M, lattice_f"
   ]
  },
  {
   "cell_type": "code",
   "execution_count": 88,
   "metadata": {
    "scrolled": false
   },
   "outputs": [
    {
     "name": "stderr",
     "output_type": "stream",
     "text": [
      "C:\\Users\\Rene\\Anaconda\\lib\\site-packages\\matplotlib\\animation.py:1218: UserWarning: MovieWriter ffmpeg unavailable\n",
      "  warnings.warn(\"MovieWriter %s unavailable\" % writer)\n"
     ]
    },
    {
     "data": {
      "image/png": "[encoded data removed]",
      "text/plain": [
       "<matplotlib.figure.Figure at 0x167659471d0>"
      ]
     },
     "metadata": {},
     "output_type": "display_data"
    }
   ],
   "source": [
    "import matplotlib.animation as anim\n",
    "plt.rcParams[\"figure.figsize\"] = [16,8]\n",
    "\n",
    "J = 100. # interaction constant\n",
    "h = 0\n",
    "L = 100\n",
    "k_B = 1.\n",
    "T = 2.269\n",
    "iterate = 100000 # number of iterations\n",
    "ic = 0 # to keep track of the number of iterations\n",
    "lattice = np.random.choice([1,-1],size=[L,L])\n",
    "\n",
    "np.random.seed(69)\n",
    "ic  = 0\n",
    "lattice = np.random.choice([1,-1],size=[L,L])\n",
    "\n",
    "fig = plt.figure(figsize=(9,9))\n",
    "im = []\n",
    "\n",
    "while ic < iterate:\n",
    "    y,x, change_E, r, E, M, lattice_f = update(lattice)\n",
    "    #print(y,x,change_E,r,E)\n",
    "    if ic%1000 == 0:\n",
    "        im.append([plt.imshow(lattice_f, animated = True, cmap = 'bwr')])        \n",
    "    ic += 1\n",
    "    \n",
    "ising = anim.ArtistAnimation(fig, im, interval = 50, blit = True)\n",
    "ising.save(\"isingmodel.html\")\n"
   ]
  },
  {
   "cell_type": "code",
   "execution_count": 190,
   "metadata": {},
   "outputs": [
    {
     "data": {
      "text/plain": [
       "<matplotlib.image.AxesImage at 0x1676a9659b0>"
      ]
     },
     "execution_count": 190,
     "metadata": {},
     "output_type": "execute_result"
    },
    {
     "data": {
      "image/png": "[encoded data removed]",
      "text/plain": [
       "<matplotlib.figure.Figure at 0x1676a4dd358>"
      ]
     },
     "metadata": {},
     "output_type": "display_data"
    }
   ],
   "source": [
    "np.random.seed(69)\n",
    "lattice = np.random.choice([1,-1],size=[L,L])\n",
    "def final_isingmodel(J, h, L, k_B, iterate, T):\n",
    "    \n",
    "    im = []\n",
    "    ic  = 0\n",
    "    def mag(lattice):\n",
    "        return np.sum(lattice/L)\n",
    "\n",
    "    def metro(change_E,y,x,lattice,T):\n",
    "        r = np.random.random()\n",
    "        E = np.exp(change_E/(k_B*T))\n",
    "        if r < E:\n",
    "            lattice[y,x] = -lattice[y,x]\n",
    "            #note that if change_E>=0, r is always < np.exp(change_E/(k_B*T))\n",
    "        return r, E, lattice\n",
    "\n",
    "    def dE(J,h,y,x):  \n",
    "        # periodic lattice\n",
    "        per = np.empty([L+2,L+2],dtype=int) \n",
    "        per[1:L+1,1:L+1] = lattice\n",
    "        per[0,1:L+1] = lattice[L-1]\n",
    "        per[L+1,1:L+1] = lattice[0]\n",
    "        per[1:L+1,0] = lattice[:,L-1]\n",
    "        per[1:L+1,L+1] = lattice[:,0]\n",
    "        X = x+1\n",
    "        Y = y+1\n",
    "        S_j = per[Y-1,X]+per[Y+1,X]+per[Y,X+1]+per[Y,X-1]\n",
    "        h_i = J*S_j + h\n",
    "\n",
    "        return -2*lattice[y,x]*h_i\n",
    "\n",
    "    def update(lattice):\n",
    "        '''Perform the algorithm for simulating Ising ferromagnet.'''\n",
    "        y,x = np.random.randint(L),np.random.randint(L) \n",
    "        change_E = dE(J,h,y,x)\n",
    "        r, E, lattice_f =  metro(change_E,y,x,lattice,T)\n",
    "        M = mag(lattice_f)\n",
    "        return y,x, change_E, r, E, M, lattice_f\n",
    "    \n",
    "    while ic < iterate:\n",
    "        y,x, change_E, r, E, M, lattice_f = update(lattice)\n",
    "        #print(y,x,change_E,r,E)\n",
    "        if ic%100000 == 0:\n",
    "            #plt.imshow(lattice_f)\n",
    "            lattice_f = lattice_f      \n",
    "        ic += 1\n",
    "        \n",
    "    return lattice_f\n",
    "\n",
    "final_isingmodel(J, h, L, k_B, iterate, T)\n",
    "plt.imshow(final_isingmodel(1,5,100,1,10000, 2.269), cmap = 'bwr')"
   ]
  },
  {
   "cell_type": "code",
   "execution_count": 162,
   "metadata": {},
   "outputs": [
    {
     "name": "stderr",
     "output_type": "stream",
     "text": [
      "C:\\Users\\Rene\\Anaconda\\lib\\site-packages\\matplotlib\\animation.py:1218: UserWarning: MovieWriter ffmpeg unavailable\n",
      "  warnings.warn(\"MovieWriter %s unavailable\" % writer)\n"
     ]
    },
    {
     "data": {
      "image/png": "[encoded data removed]",
      "text/plain": [
       "<matplotlib.figure.Figure at 0x1676ad27c50>"
      ]
     },
     "metadata": {},
     "output_type": "display_data"
    }
   ],
   "source": [
    "fig = plt.figure(figsize=(9,9))\n",
    "j_images = []\n",
    "for j in range(-10,10):\n",
    "    if j%5:\n",
    "        im = final_isingmodel(j,0,100,1,100000, 2.269)\n",
    "        temp_images.append([plt.imshow(im, animated = True, cmap = 'bwr')])\n",
    "\n",
    "ising_j = anim.ArtistAnimation(fig, j_images, interval = 10, blit = True)\n",
    "ising_j.save(\"isingmodel_j.html\")"
   ]
  },
  {
   "cell_type": "code",
   "execution_count": 167,
   "metadata": {},
   "outputs": [
    {
     "name": "stderr",
     "output_type": "stream",
     "text": [
      "C:\\Users\\Rene\\Anaconda\\lib\\site-packages\\matplotlib\\animation.py:1218: UserWarning: MovieWriter ffmpeg unavailable\n",
      "  warnings.warn(\"MovieWriter %s unavailable\" % writer)\n"
     ]
    },
    {
     "data": {
      "image/png": "[encoded data removed]",
      "text/plain": [
       "<matplotlib.figure.Figure at 0x1676a604b38>"
      ]
     },
     "metadata": {},
     "output_type": "display_data"
    }
   ],
   "source": [
    "fig = plt.figure(figsize=(9,9))\n",
    "temp_images = []\n",
    "for t in np.arange(0.1,5,0.2):\n",
    "    im = final_isingmodel(1,0,100,1,100000, t)\n",
    "    temp_images.append([plt.imshow(im, animated = True, cmap = 'bwr')])\n",
    "\n",
    "ising_temp = anim.ArtistAnimation(fig, temp_images, interval = 10, blit = True)\n",
    "ising_temp.save(\"isingmodel_temperature.html\")"
   ]
  },
  {
   "cell_type": "code",
   "execution_count": 196,
   "metadata": {},
   "outputs": [
    {
     "name": "stderr",
     "output_type": "stream",
     "text": [
      "C:\\Users\\Rene\\Anaconda\\lib\\site-packages\\matplotlib\\animation.py:1218: UserWarning: MovieWriter ffmpeg unavailable\n",
      "  warnings.warn(\"MovieWriter %s unavailable\" % writer)\n"
     ]
    },
    {
     "data": {
      "image/png": "[encoded data removed]",
      "text/plain": [
       "<matplotlib.figure.Figure at 0x1676ae30278>"
      ]
     },
     "metadata": {},
     "output_type": "display_data"
    }
   ],
   "source": [
    "fig = plt.figure(figsize=(9,9))\n",
    "h_images = []\n",
    "for h in np.arange(-0.5,0.5,0.05):\n",
    "    im = final_isingmodel(1,h,100,1,100000, 2.269)\n",
    "    h_images.append([plt.imshow(im, animated = True, cmap = 'bwr')])\n",
    "\n",
    "ising_h = anim.ArtistAnimation(fig, h_images, interval = 10, blit = True)\n",
    "ising_h.save(\"isingmodel_h2.html\")"
   ]
  },
  {
   "cell_type": "code",
   "execution_count": null,
   "metadata": {},
   "outputs": [],
   "source": []
  }
 ],
 "metadata": {
  "kernelspec": {
   "display_name": "Python 3",
   "language": "python",
   "name": "python3"
  },
  "language_info": {
   "codemirror_mode": {
    "name": "ipython",
    "version": 3
   },
   "file_extension": ".py",
   "mimetype": "text/x-python",
   "name": "python",
   "nbconvert_exporter": "python",
   "pygments_lexer": "ipython3",
   "version": "3.6.4"
  }
 },
 "nbformat": 4,
 "nbformat_minor": 2
}
