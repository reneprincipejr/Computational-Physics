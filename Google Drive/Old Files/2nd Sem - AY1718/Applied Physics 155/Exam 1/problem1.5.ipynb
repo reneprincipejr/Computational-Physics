{
 "cells": [
  {
   "cell_type": "markdown",
   "metadata": {},
   "source": [
    "# Problem 1.5 "
   ]
  },
  {
   "cell_type": "markdown",
   "metadata": {},
   "source": [
    "Rene L. Principe Jr.\n"
   ]
  },
  {
   "cell_type": "markdown",
   "metadata": {},
   "source": [
    "2015-04622"
   ]
  },
  {
   "cell_type": "code",
   "execution_count": 1,
   "metadata": {},
   "outputs": [
    {
     "name": "stdout",
     "output_type": "stream",
     "text": [
      "Enter value of a: 0.001\n",
      "Enter value of b: 3000\n",
      "Enter value of c: 0.003\n",
      "The two solutions are -9.99989424599e-13 and -3.0\n",
      "Using the alternative formula, the solutions are -1e-06 and -3000031.72654\n"
     ]
    }
   ],
   "source": [
    "import numpy as np\n",
    "\n",
    "a = float(input('Enter value of a: '))\n",
    "b = float(input('Enter value of b: '))\n",
    "c = float(input('Enter value of c: '))\n",
    "\n",
    "x_1 = (-b+np.sqrt(b**2-4*a*c))/2*a\n",
    "x_2 = (-b-np.sqrt(b**2-4*a*c))/2*a\n",
    "x_3 = 2*c/(-b-np.sqrt(b**2-4*a*c))\n",
    "x_4 = 2*c/(-b+np.sqrt(b**2-4*a*c))\n",
    "\n",
    "                                  \n",
    "print(\"The two solutions are\",x_1, \"and\", x_2)\n",
    "print(\"Using the alternative formula, the solutions are\", x_3,\"and\", x_4)"
   ]
  },
  {
   "cell_type": "code",
   "execution_count": 3,
   "metadata": {},
   "outputs": [
    {
     "data": {
      "text/plain": [
       "array([ -3.00000000e+06,  -1.00000000e-06])"
      ]
     },
     "execution_count": 3,
     "metadata": {},
     "output_type": "execute_result"
    }
   ],
   "source": [
    "coeff = [a,b,c]\n",
    "np.roots(coeff)"
   ]
  },
  {
   "cell_type": "code",
   "execution_count": null,
   "metadata": {},
   "outputs": [],
   "source": []
  }
 ],
 "metadata": {
  "kernelspec": {
   "display_name": "Python 3",
   "language": "python",
   "name": "python3"
  },
  "language_info": {
   "codemirror_mode": {
    "name": "ipython",
    "version": 3
   },
   "file_extension": ".py",
   "mimetype": "text/x-python",
   "name": "python",
   "nbconvert_exporter": "python",
   "pygments_lexer": "ipython3",
   "version": "3.6.3"
  }
 },
 "nbformat": 4,
 "nbformat_minor": 2
}
