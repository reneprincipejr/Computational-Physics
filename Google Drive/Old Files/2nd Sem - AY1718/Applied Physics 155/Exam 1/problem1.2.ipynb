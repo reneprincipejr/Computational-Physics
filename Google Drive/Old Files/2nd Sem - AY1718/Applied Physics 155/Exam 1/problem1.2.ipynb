{
 "cells": [
  {
   "cell_type": "markdown",
   "metadata": {},
   "source": [
    "# Problem 1.2"
   ]
  },
  {
   "cell_type": "markdown",
   "metadata": {},
   "source": [
    "Rene L. Principe Jr."
   ]
  },
  {
   "cell_type": "markdown",
   "metadata": {},
   "source": [
    "2015-04622"
   ]
  },
  {
   "cell_type": "code",
   "execution_count": 34,
   "metadata": {},
   "outputs": [
    {
     "name": "stdout",
     "output_type": "stream",
     "text": [
      "Enter the lattice size: 100\n",
      "The Madelung constant is -1.75754696536\n"
     ]
    }
   ],
   "source": [
    "import numpy as np\n",
    "\n",
    "L = int(input(\"Enter the lattice size: \"))\n",
    "x = range(-L,L,1)\n",
    "y = range(-L,L,1)\n",
    "z = range(-L,L,1)\n",
    "M = 0\n",
    "\n",
    "for i in x:\n",
    "    for j in y:\n",
    "        for k in z:\n",
    "            if i==j==k==0:\n",
    "                V = 0\n",
    "            else: \n",
    "                V_i = 1/np.sqrt(i**2+j**2+k**2)\n",
    "                if (i+j+k)%2 == 0:\n",
    "                    V += V_i\n",
    "                elif (i+j+k)%2 == 1:\n",
    "                    V -= V_i\n",
    "\n",
    "print(\"The Madelung constant is\", 2*V)           "
   ]
  },
  {
   "cell_type": "code",
   "execution_count": null,
   "metadata": {},
   "outputs": [],
   "source": []
  },
  {
   "cell_type": "code",
   "execution_count": null,
   "metadata": {},
   "outputs": [],
   "source": []
  }
 ],
 "metadata": {
  "kernelspec": {
   "display_name": "Python 3",
   "language": "python",
   "name": "python3"
  },
  "language_info": {
   "codemirror_mode": {
    "name": "ipython",
    "version": 3
   },
   "file_extension": ".py",
   "mimetype": "text/x-python",
   "name": "python",
   "nbconvert_exporter": "python",
   "pygments_lexer": "ipython3",
   "version": "3.6.3"
  }
 },
 "nbformat": 4,
 "nbformat_minor": 2
}
