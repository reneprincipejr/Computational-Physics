{
 "cells": [
  {
   "cell_type": "markdown",
   "metadata": {},
   "source": [
    "# Problem 1.1\n"
   ]
  },
  {
   "cell_type": "markdown",
   "metadata": {},
   "source": [
    "Rene L. Principe Jr."
   ]
  },
  {
   "cell_type": "markdown",
   "metadata": {},
   "source": [
    "2015-04622"
   ]
  },
  {
   "cell_type": "code",
   "execution_count": 16,
   "metadata": {},
   "outputs": [
    {
     "name": "stdout",
     "output_type": "stream",
     "text": [
      "The particle's initial kinetic energy in eV is: 10\n",
      "The potential step energy in eV is: 9\n",
      "The transmission probability is 0.730126136388\n",
      "The reflection probability is 0.269873863612\n",
      "Total probability is 1.0\n"
     ]
    }
   ],
   "source": [
    "import numpy as np\n",
    "from scipy.constants import hbar, m_e\n",
    "\n",
    "E = float(input(\"The particle's initial kinetic energy in eV is: \"))\n",
    "V = float(input(\"The potential step energy in eV is: \"))\n",
    "h_ = float(hbar)\n",
    "m = float(m_e)\n",
    "\n",
    "k1 = np.sqrt(2*m*E)/h_\n",
    "k2 = np.sqrt(2*m*(E-V))/h_\n",
    "\n",
    "T = (4*k1*k2)/(k1+k2)**2\n",
    "R = ((k1-k2)/(k1+k2))**2\n",
    "P = T+R\n",
    "\n",
    "print(\"The transmission probability is\",T)\n",
    "print(\"The reflection probability is\", R)\n",
    "print(\"Total probability is\", P)"
   ]
  },
  {
   "cell_type": "code",
   "execution_count": null,
   "metadata": {},
   "outputs": [],
   "source": []
  }
 ],
 "metadata": {
  "kernelspec": {
   "display_name": "Python 3",
   "language": "python",
   "name": "python3"
  },
  "language_info": {
   "codemirror_mode": {
    "name": "ipython",
    "version": 3
   },
   "file_extension": ".py",
   "mimetype": "text/x-python",
   "name": "python",
   "nbconvert_exporter": "python",
   "pygments_lexer": "ipython3",
   "version": "3.6.3"
  }
 },
 "nbformat": 4,
 "nbformat_minor": 2
}
