{
 "cells": [
  {
   "cell_type": "markdown",
   "metadata": {},
   "source": [
    "# PROBLEM 2.2\n",
    "\n",
    "#### RENE L. PRINCIPE JR              \n",
    "###### 2015-04622"
   ]
  },
  {
   "cell_type": "code",
   "execution_count": 7,
   "metadata": {},
   "outputs": [
    {
     "data": {
      "image/png": "[encoded data removed]",
      "text/plain": [
       "<matplotlib.figure.Figure at 0x1e091623048>"
      ]
     },
     "metadata": {},
     "output_type": "display_data"
    }
   ],
   "source": [
    "# -*- coding: utf-8 -*-\n",
    "\"\"\"\n",
    "Created on Sun Apr  8 20:23:21 2018\n",
    "\n",
    "@author: Rene\n",
    "\"\"\"\n",
    "\n",
    "\n",
    "import numpy as np\n",
    "import matplotlib.pyplot as plt\n",
    "\n",
    "def integrand(a):\n",
    "    return x**(a-1)*np.exp(-x)\n",
    "\n",
    "x = np.linspace(0,5,1000)\n",
    "\n",
    "plt.plot(x,integrand(2), label=\"a=2\")\n",
    "plt.plot(x,integrand(3), label=\"a=3\")\n",
    "plt.plot(x,integrand(4), label=\"a=4\")\n",
    "plt.legend()\n",
    "plt.xlabel(\"X\")\n",
    "plt.ylabel(\"Integrand Values\")\n",
    "plt.title(\"Integrand Curves\")\n",
    "plt.show()"
   ]
  },
  {
   "cell_type": "markdown",
   "metadata": {},
   "source": [
    "Taking the derivative of the integrand, it will result to \n",
    "= (a-1)*x**(a-2)*np.exp(-x) - x**(a-1)*np.exp(-x)\n",
    "Taking the limit as x approaches a-1 from the left, it yields a positive value, but the integrand will have a negative slope once it approaces x = a-1 from the left. This explains the inflection at point x = a-1. Taking the second derivative and substituting x=a-1 will have a negative value that is why the curve is concave down.\n",
    "\n"
   ]
  },
  {
   "cell_type": "markdown",
   "metadata": {},
   "source": [
    "C.) z = 1/2 if and only if x = c, thus, this change of variables is very useful since any choice of parameter c will always work."
   ]
  },
  {
   "cell_type": "markdown",
   "metadata": {},
   "source": [
    "D.) The new integrand is (e**((a-1)lnx-x))"
   ]
  },
  {
   "cell_type": "code",
   "execution_count": null,
   "metadata": {},
   "outputs": [],
   "source": [
    "from numpy import euler_gamma as y\n",
    "from numpy import exp, linspace\n",
    "import matplotlib.pyplot as plt\n",
    "import math\n",
    "\n",
    "def gamma(z):\n",
    "    N = 1000000\n",
    "    f = 1\n",
    "    for n in range(1, N+1):\n",
    "        f*=(1+z/n)**(-1)*exp(z/n)\n",
    "    return exp(-y*z)/z*f\n",
    "\n",
    "print(gamma(3/2))"
   ]
  },
  {
   "cell_type": "code",
   "execution_count": 15,
   "metadata": {},
   "outputs": [
    {
     "name": "stdout",
     "output_type": "stream",
     "text": [
      "0.8862259284569047\n"
     ]
    }
   ],
   "source": [
    "from numpy import euler_gamma as y\n",
    "from numpy import exp, linspace\n",
    "import matplotlib.pyplot as plt\n",
    "import math\n",
    "\n",
    "def gamma(z):\n",
    "    N = 1000000\n",
    "    f = 1\n",
    "    for n in range(1, N+1):\n",
    "        f*=(1+z/n)**(-1)*exp(z/n)\n",
    "    return exp(-y*z)/z*f\n",
    "\n",
    "print(gamma(3/2))"
   ]
  },
  {
   "cell_type": "code",
   "execution_count": 12,
   "metadata": {},
   "outputs": [
    {
     "name": "stdout",
     "output_type": "stream",
     "text": [
      "0.8862269254528349\n"
     ]
    }
   ],
   "source": [
    "#CHECKING FROM GAUSSXW.PY AND INFINT.PY\n",
    "\n",
    "from numpy import ones,copy,cos,tan,pi,linspace\n",
    "\n",
    "def gaussxw(N):\n",
    "\n",
    "    # Initial approximation to roots of the Legendre polynomial\n",
    "    a = linspace(3,4*N-1,N)/(4*N+2)\n",
    "    x = cos(pi*a+1/(8*N*N*tan(a)))\n",
    "\n",
    "    # Find roots using Newton's method\n",
    "    epsilon = 1e-15\n",
    "    delta = 1.0\n",
    "    while delta>epsilon:\n",
    "        p0 = ones(N,float)\n",
    "        p1 = copy(x)\n",
    "        for k in range(1,N):\n",
    "            p0,p1 = p1,((2*k+1)*x*p1-k*p0)/(k+1)\n",
    "        dp = (N+1)*(p0-x*p1)/(1-x*x)\n",
    "        dx = p1/dp\n",
    "        x -= dx\n",
    "        delta = max(abs(dx))\n",
    "\n",
    "    # Calculate the weights\n",
    "    w = 2*(N+1)*(N+1)/(N*N*(1-x*x)*dp*dp)\n",
    "\n",
    "    return x,w\n",
    "\n",
    "def gaussxwab(N,a,b):\n",
    "    x,w = gaussxw(N)\n",
    "    return 0.5*(b-a)*x+0.5*(b+a),0.5*(b-a)*w\n",
    "\n",
    "\n",
    "from math import exp\n",
    "\n",
    "def f(z):\n",
    "    return exp(-z**2/(1-z)**2)/(1-z)**2\n",
    "\n",
    "N = 50\n",
    "a = 0.0\n",
    "b = 1.0\n",
    "x,w = gaussxwab(N,a,b)\n",
    "s = 0.0\n",
    "for k in range(N):\n",
    "    s += w[k]*f(x[k])\n",
    "print(s)\n"
   ]
  },
  {
   "cell_type": "code",
   "execution_count": 22,
   "metadata": {},
   "outputs": [
    {
     "name": "stderr",
     "output_type": "stream",
     "text": [
      "C:\\ProgramData\\Anaconda3\\lib\\site-packages\\ipykernel_launcher.py:6: RuntimeWarning: invalid value encountered in power\n",
      "  \n"
     ]
    },
    {
     "name": "stdout",
     "output_type": "stream",
     "text": [
      "[1.58636746e+00 1.64672693e+00 1.69342953e+00 1.73534958e+00\n",
      " 1.77548476e+00 1.81539367e+00 1.85613456e+00 1.89858706e+00\n",
      " 1.94360517e+00 1.99211788e+00 2.04522105e+00 2.10428611e+00\n",
      " 2.17111097e+00 2.24815092e+00 2.33889616e+00 2.44852765e+00\n",
      " 2.58513131e+00 2.76212314e+00 3.00357411e+00 3.35745085e+00\n",
      " 3.93473254e+00 5.05894434e+00 8.15282179e+00 3.00000911e+01\n",
      " 2.29528054e+05            nan            nan            nan\n",
      "            nan            nan            nan            nan\n",
      "            nan            nan            nan            nan\n",
      "            nan            nan            nan            nan\n",
      "            nan            nan            nan            nan\n",
      "            nan            nan            nan            nan\n",
      "            nan            nan]\n"
     ]
    }
   ],
   "source": [
    "\n",
    "\n",
    "c=1\n",
    "\n",
    "def f(a):\n",
    "    return np.exp(np.log(x/(c-x))**(a-1))-(x/c-x)\n",
    "N = 50\n",
    "a = 0.0\n",
    "b = 1.0\n",
    "x,w = gaussxwab(N,a,b)\n",
    "s = 0.0\n",
    "for k in range(N):\n",
    "    s += w[k]*f(x[k])\n",
    "print(s)\n"
   ]
  },
  {
   "cell_type": "code",
   "execution_count": 23,
   "metadata": {},
   "outputs": [
    {
     "name": "stderr",
     "output_type": "stream",
     "text": [
      "C:\\ProgramData\\Anaconda3\\lib\\site-packages\\ipykernel_launcher.py:6: RuntimeWarning: invalid value encountered in sqrt\n",
      "  \n"
     ]
    },
    {
     "data": {
      "text/plain": [
       "array([15.39486221, 11.14180966,  9.16795788,  7.92768455,  7.03997785,\n",
       "        6.35577725,  5.80230952,  5.33894208,  4.94081989,  4.59168931,\n",
       "        4.28035867,  3.99879285,  3.74101413,  3.50243104,  3.27940674,\n",
       "        3.06896671,  2.86858776,  2.6760311 ,  2.48919018,  2.30592045,\n",
       "        2.12379626,  1.93966753,  1.74863139,  1.54081191,  1.28329737,\n",
       "               nan,         nan,         nan,         nan,         nan,\n",
       "               nan,         nan,         nan,         nan,         nan,\n",
       "               nan,         nan,         nan,         nan,         nan,\n",
       "               nan,         nan,         nan,         nan,         nan,\n",
       "               nan,         nan,         nan,         nan,         nan])"
      ]
     },
     "execution_count": 23,
     "metadata": {},
     "output_type": "execute_result"
    }
   ],
   "source": [
    "f(3/2)"
   ]
  },
  {
   "cell_type": "code",
   "execution_count": null,
   "metadata": {},
   "outputs": [],
   "source": []
  }
 ],
 "metadata": {
  "kernelspec": {
   "display_name": "Python 3",
   "language": "python",
   "name": "python3"
  },
  "language_info": {
   "codemirror_mode": {
    "name": "ipython",
    "version": 3
   },
   "file_extension": ".py",
   "mimetype": "text/x-python",
   "name": "python",
   "nbconvert_exporter": "python",
   "pygments_lexer": "ipython3",
   "version": "3.6.4"
  }
 },
 "nbformat": 4,
 "nbformat_minor": 2
}
