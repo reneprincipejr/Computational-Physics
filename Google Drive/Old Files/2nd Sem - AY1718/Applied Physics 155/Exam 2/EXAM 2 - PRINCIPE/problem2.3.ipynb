{
 "cells": [
  {
   "cell_type": "markdown",
   "metadata": {},
   "source": [
    "# PROBLEM 2.3\n",
    "\n",
    "#### RENE L. PRINCIPE JR              \n",
    "###### 2015-04622"
   ]
  },
  {
   "cell_type": "markdown",
   "metadata": {},
   "source": [
    "Corresponding Equation for V2: ((V2-Vp)/R3) + (V2/R4) + I0*((e**((V2-V1)/Vt))-1)\n"
   ]
  },
  {
   "cell_type": "code",
   "execution_count": 22,
   "metadata": {},
   "outputs": [
    {
     "name": "stdout",
     "output_type": "stream",
     "text": [
      "2.6615802615990427 2.0000035999935446\n"
     ]
    }
   ],
   "source": [
    "# -*- coding: utf-8 -*-\n",
    "\"\"\"\n",
    "Created on Sun Apr  8 1:23:21 2018\n",
    "\n",
    "@author: Rene\n",
    "\"\"\"\n",
    "\n",
    "\n",
    "import numpy as np\n",
    "from numpy.linalg import norm\n",
    "\n",
    "Vp = 5.0\n",
    "R1 = 1000.0\n",
    "R2 = 4000.0\n",
    "R3 = 3000.0\n",
    "R4 = 2000.0\n",
    "I0 = 3e-9\n",
    "Vt = 0.05\n",
    "\n",
    "#ASSUMING INITIAL VALUES FOR V1 AND V2 AND SETTING THE ACCURACY\n",
    "V1, V2 = 3.0, 2.0\n",
    "accuracy = 1e-10\n",
    "\n",
    "#FOLLOWING THE FORM Ax=V\n",
    "\n",
    "#V=f(V1,V2) #Vector\n",
    "\n",
    "def f(V1,V2):\n",
    "    v1 = ((V1-Vp)/R1) + (V1/R2) + I0*((np.exp((V1-V2)/Vt))-1)\n",
    "    v2 = ((V2-Vp)/R3) + (V2/R4) + I0*((np.exp((V2-V1)/Vt))-1)\n",
    "    return np.array([v1,v2],float)\n",
    "\n",
    "#A=df(V1,V2) #2x2 Matrix\n",
    "#the elements are partial derivatives with respect to the variables V1 and V2\n",
    "\n",
    "def df(V1,V2):\n",
    "    \n",
    "    A11 = (1/R1) + (1/R2) + ((I0/Vt)*(np.exp((V1-V2)/Vt)))\n",
    "    A12 = -((I0/Vt)*(np.exp((V1-V2)/Vt)))\n",
    "    A21 = -((I0/Vt)*(np.exp((V2-V1)/Vt)))\n",
    "    A22 = (1/R3) + (1/R4) + ((I0/Vt)*(np.exp((V2-V1)/Vt)))\n",
    "    return np.array([[A11,A12],[A21, A22]],float)\n",
    "\n",
    "#APPLY NEWTON'S METHOD\n",
    "\n",
    "fv = f(V1,V2)\n",
    "fn = norm(fv, ord = 2)\n",
    "\n",
    "while abs(fn)> accuracy:\n",
    "        delta = np.linalg.solve(df(V1,V2),f(V1,V2))\n",
    "        V1 -= delta[0]\n",
    "        V2 -= delta[1]\n",
    "    \n",
    "        fv = f(V1,V2)\n",
    "        fn = norm(fv)\n",
    "\n",
    "print(V1,V2) "
   ]
  },
  {
   "cell_type": "code",
   "execution_count": 23,
   "metadata": {},
   "outputs": [
    {
     "name": "stdout",
     "output_type": "stream",
     "text": [
      "0.6615766616054981\n"
     ]
    }
   ],
   "source": [
    "#COMPARING THE DIFFERENCE TO THE ELECTRONIC ENGINEER'S RULE OF THUMB\n",
    "#THEORETICALLY, VOLTAE DIFFERENCE is around 0.6 volts\n",
    "\n",
    "print(V1-V2)"
   ]
  },
  {
   "cell_type": "markdown",
   "metadata": {},
   "source": [
    "The results are near enough."
   ]
  },
  {
   "cell_type": "code",
   "execution_count": null,
   "metadata": {},
   "outputs": [],
   "source": []
  }
 ],
 "metadata": {
  "kernelspec": {
   "display_name": "Python 3",
   "language": "python",
   "name": "python3"
  },
  "language_info": {
   "codemirror_mode": {
    "name": "ipython",
    "version": 3
   },
   "file_extension": ".py",
   "mimetype": "text/x-python",
   "name": "python",
   "nbconvert_exporter": "python",
   "pygments_lexer": "ipython3",
   "version": "3.6.4"
  }
 },
 "nbformat": 4,
 "nbformat_minor": 2
}
