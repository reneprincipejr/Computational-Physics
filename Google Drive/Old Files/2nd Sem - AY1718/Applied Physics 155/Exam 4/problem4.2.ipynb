{
 "cells": [
  {
   "cell_type": "code",
   "execution_count": 61,
   "metadata": {},
   "outputs": [
    {
     "name": "stderr",
     "output_type": "stream",
     "text": [
      "C:\\ProgramData\\Anaconda3\\lib\\site-packages\\matplotlib\\animation.py:1218: UserWarning: MovieWriter ffmpeg unavailable\n",
      "  warnings.warn(\"MovieWriter %s unavailable\" % writer)\n"
     ]
    },
    {
     "data": {
      "image/png": "[encoded data removed]",
      "text/plain": [
       "<matplotlib.figure.Figure at 0x2261424a8d0>"
      ]
     },
     "metadata": {},
     "output_type": "display_data"
    }
   ],
   "source": [
    "import numpy as np\n",
    "import matplotlib.pyplot as plt\n",
    "import matplotlib.animation as animation\n",
    "from random import randint\n",
    "\n",
    "L = 101\n",
    "iterations = 1500\n",
    "i = (L-1)/2\n",
    "j = (L-1)/2\n",
    "\n",
    "fig = plt.figure()\n",
    "\n",
    "images = []\n",
    "\n",
    "for t in np.arange(iterations):\n",
    "    a = randint(1,4)\n",
    "    if a==1: #up\n",
    "        if i==L: continue\n",
    "        i+=1\n",
    "    elif a==2: #down\n",
    "        if i==0: continue\n",
    "        i-=1\n",
    "    elif a==3: #right\n",
    "        if j==L: continue\n",
    "        j+=1\n",
    "    elif a==4: #left\n",
    "        if j==0: continue\n",
    "        j-=1\n",
    "\n",
    "    plt.plot(i,j, \"r\")\n",
    "    plt.xlim(0,L)\n",
    "    plt.ylim(0,L)\n",
    "    plt.rcParams[\"figure.figsize\"] = [8,8]\n",
    "    im, = plt.plot(i, j, marker='o', markersize=5, color=\"red\")\n",
    "    images.append([im])\n",
    "\n",
    "ani = animation.ArtistAnimation(fig, images, interval=50, blit=True)\n",
    "\n",
    "ani.save('motion.html')\n",
    "\n",
    "plt.show()"
   ]
  },
  {
   "cell_type": "code",
   "execution_count": null,
   "metadata": {},
   "outputs": [],
   "source": []
  }
 ],
 "metadata": {
  "kernelspec": {
   "display_name": "Python 3",
   "language": "python",
   "name": "python3"
  },
  "language_info": {
   "codemirror_mode": {
    "name": "ipython",
    "version": 3
   },
   "file_extension": ".py",
   "mimetype": "text/x-python",
   "name": "python",
   "nbconvert_exporter": "python",
   "pygments_lexer": "ipython3",
   "version": "3.6.4"
  }
 },
 "nbformat": 4,
 "nbformat_minor": 2
}
