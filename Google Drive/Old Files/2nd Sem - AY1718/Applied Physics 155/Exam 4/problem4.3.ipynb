{
 "cells": [
  {
   "cell_type": "markdown",
   "metadata": {},
   "source": [
    "The integral itself is susceptible to problems regarding dirvergence. It can be avoided if w(x) is chosen to be $x^{-1/2}$  such that the term $\\frac{f(x)}{w(x)}$ on the sampling formula can be simplified into a form $(e^x +1)^{-1}$. This term is finite and doesn't diverge. The transformation formula is given by $\\frac{x^{-1/2}}{\\int_{0}^{1} x^{-1/2} dx}$ and evaluating this will give us the probability distribution p(x) = $\\frac{1}{2\\sqrt x}$"
   ]
  },
  {
   "cell_type": "code",
   "execution_count": 25,
   "metadata": {},
   "outputs": [
    {
     "name": "stdout",
     "output_type": "stream",
     "text": [
      "I= 0.8389504755944408\n"
     ]
    }
   ],
   "source": [
    "from pylab import random\n",
    "\n",
    "N = 10000000\n",
    "\n",
    "a = random(N)\n",
    "x = a**2\n",
    "\n",
    "def g(x):\n",
    "    return 1/(exp(x)+1)\n",
    "I = sum(g(x))/N*2\n",
    "\n",
    "print(\"I =\",I)"
   ]
  },
  {
   "cell_type": "markdown",
   "metadata": {},
   "source": [
    "which is around 0.84"
   ]
  },
  {
   "cell_type": "code",
   "execution_count": null,
   "metadata": {},
   "outputs": [],
   "source": []
  }
 ],
 "metadata": {
  "kernelspec": {
   "display_name": "VPython",
   "language": "python",
   "name": "vpython"
  },
  "language_info": {
   "codemirror_mode": {
    "name": "ipython",
    "version": 3
   },
   "file_extension": ".py",
   "mimetype": "text/x-python",
   "name": "python",
   "nbconvert_exporter": "python",
   "pygments_lexer": "ipython3",
   "version": "3.6.4"
  }
 },
 "nbformat": 4,
 "nbformat_minor": 2
}
