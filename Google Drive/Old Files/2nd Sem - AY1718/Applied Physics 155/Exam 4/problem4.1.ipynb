{
 "cells": [
  {
   "cell_type": "code",
   "execution_count": 7,
   "metadata": {},
   "outputs": [
    {
     "name": "stdout",
     "output_type": "stream",
     "text": [
      "(6, 6, 3)\n"
     ]
    }
   ],
   "source": [
    "from random import randint\n",
    "\n",
    "a = randint(1,6)\n",
    "b = randint(1,6)\n",
    "c = randint(1,6)\n",
    "print((a,b,c))\n"
   ]
  },
  {
   "cell_type": "code",
   "execution_count": 8,
   "metadata": {},
   "outputs": [
    {
     "name": "stdout",
     "output_type": "stream",
     "text": [
      "0.004723\n"
     ]
    }
   ],
   "source": [
    "count = 0\n",
    "iterations = 1000000\n",
    "for i in range(iterations):\n",
    "    a = randint(1,6)\n",
    "    b = randint(1,6)\n",
    "    c = randint(1,6)\n",
    "    if a==6 and b==6 and c==6:\n",
    "        count+=1\n",
    "\n",
    "probability = count/iterations\n",
    "print(probability)"
   ]
  },
  {
   "cell_type": "code",
   "execution_count": null,
   "metadata": {},
   "outputs": [],
   "source": []
  }
 ],
 "metadata": {
  "kernelspec": {
   "display_name": "Python 3",
   "language": "python",
   "name": "python3"
  },
  "language_info": {
   "codemirror_mode": {
    "name": "ipython",
    "version": 3
   },
   "file_extension": ".py",
   "mimetype": "text/x-python",
   "name": "python",
   "nbconvert_exporter": "python",
   "pygments_lexer": "ipython3",
   "version": "3.6.4"
  }
 },
 "nbformat": 4,
 "nbformat_minor": 2
}
